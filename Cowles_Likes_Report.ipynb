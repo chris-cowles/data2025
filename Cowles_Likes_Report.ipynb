{
 "cells": [
  {
   "cell_type": "markdown",
   "id": "2a23aba6",
   "metadata": {},
   "source": [
    "# Likes Report\n",
    "\n",
    "By: Chris Cowles\n",
    "\n",
    "9/15/25"
   ]
  },
  {
   "cell_type": "markdown",
   "id": "aa2427e5",
   "metadata": {},
   "source": [
    "This is data taken from my personal Instagram account. Instagram was the one who collected all of the data, and they collected this data to monetize and tailor ads to me. I am the \"creator\" of the data in the sense that this is based off of my activity on the Instagram app The data is very reliable because it is the complete record of my Instagram account, coming straight from Instagram. I do not believe that there is anything unreliable about the data, other than the possible conclusions that could be drawn from it."
   ]
  },
  {
   "cell_type": "code",
   "execution_count": 51,
   "id": "bd342a28",
   "metadata": {},
   "outputs": [],
   "source": [
    "import pandas as pd\n",
    "import json as js"
   ]
  },
  {
   "cell_type": "markdown",
   "id": "4bfbd610",
   "metadata": {},
   "source": [
    "Importing modules. Pandas is needed for DataFrame and json is needed for reading json files"
   ]
  },
  {
   "cell_type": "code",
   "execution_count": 52,
   "id": "6e98edf8-5d75-444f-a79b-bcf5c7610298",
   "metadata": {},
   "outputs": [],
   "source": [
    "path = r'/Users/chris/Desktop/docs/fall 2025/data/instagram @freebrisk_/your_instagram_activity/likes/liked_posts.json'"
   ]
  },
  {
   "cell_type": "code",
   "execution_count": 53,
   "id": "cdb1756b",
   "metadata": {},
   "outputs": [],
   "source": [
    "with open(path) as op:\n",
    "    data =js.load(op)"
   ]
  },
  {
   "cell_type": "markdown",
   "id": "cf1d19cc",
   "metadata": {},
   "source": [
    "Importing the data."
   ]
  },
  {
   "cell_type": "code",
   "execution_count": 54,
   "id": "e0bbe370",
   "metadata": {},
   "outputs": [
    {
     "data": {
      "text/plain": [
       "dict_keys(['likes_media_likes'])"
      ]
     },
     "execution_count": 54,
     "metadata": {},
     "output_type": "execute_result"
    }
   ],
   "source": [
    "data.keys()"
   ]
  },
  {
   "cell_type": "markdown",
   "id": "f93c1589",
   "metadata": {},
   "source": [
    "Extracting keys from the dictionary"
   ]
  },
  {
   "cell_type": "code",
   "execution_count": 55,
   "id": "30290c93",
   "metadata": {},
   "outputs": [
    {
     "data": {
      "text/plain": [
       "{'title': 'watchingnewyork',\n",
       " 'string_list_data': [{'href': 'https://www.instagram.com/p/DNxymaYwLfW/',\n",
       "   'value': 'ð\\x9f\\x91\\x8d',\n",
       "   'timestamp': 1756143746}]}"
      ]
     },
     "execution_count": 55,
     "metadata": {},
     "output_type": "execute_result"
    }
   ],
   "source": [
    "data['likes_media_likes'][0]"
   ]
  },
  {
   "cell_type": "markdown",
   "id": "014fa85d",
   "metadata": {},
   "source": [
    "Looking for the timestamp value."
   ]
  },
  {
   "cell_type": "code",
   "execution_count": 56,
   "id": "af980916",
   "metadata": {},
   "outputs": [],
   "source": [
    "timestamp = [x['string_list_data'][0]['timestamp'] for x in data['likes_media_likes']]"
   ]
  },
  {
   "cell_type": "markdown",
   "id": "aaba70b6",
   "metadata": {},
   "source": [
    "Assigning the timestamp a variable."
   ]
  },
  {
   "cell_type": "code",
   "execution_count": 57,
   "id": "2f5f29b3",
   "metadata": {},
   "outputs": [
    {
     "data": {
      "text/plain": [
       "[1756143746,\n",
       " 1756137591,\n",
       " 1756137574,\n",
       " 1756137548,\n",
       " 1756137471,\n",
       " 1756087865,\n",
       " 1756080920,\n",
       " 1756062309,\n",
       " 1756062236,\n",
       " 1756062084]"
      ]
     },
     "execution_count": 57,
     "metadata": {},
     "output_type": "execute_result"
    }
   ],
   "source": [
    "timestamp[0:10]"
   ]
  },
  {
   "cell_type": "markdown",
   "id": "e18db4ef",
   "metadata": {},
   "source": [
    "Checking to see timestamp's output"
   ]
  },
  {
   "cell_type": "code",
   "execution_count": 58,
   "id": "f51d2075",
   "metadata": {},
   "outputs": [],
   "source": [
    "accounts = [x['title'] for x in data['likes_media_likes'] ]\n"
   ]
  },
  {
   "cell_type": "markdown",
   "id": "5e06216f",
   "metadata": {},
   "source": [
    "Assigning the accounts section a variable"
   ]
  },
  {
   "cell_type": "code",
   "execution_count": 59,
   "id": "79b3bcb9",
   "metadata": {},
   "outputs": [
    {
     "data": {
      "text/plain": [
       "['watchingnewyork',\n",
       " 'bluntqoute',\n",
       " 'buddygirlcat',\n",
       " 'aaron.uh',\n",
       " 'ovvenmusic',\n",
       " '_.katieann',\n",
       " 'kamilxabbas',\n",
       " 'gbjug5',\n",
       " 'equippedmemes',\n",
       " 'icantstopjuggin']"
      ]
     },
     "execution_count": 59,
     "metadata": {},
     "output_type": "execute_result"
    }
   ],
   "source": [
    "accounts[0:10]"
   ]
  },
  {
   "cell_type": "markdown",
   "id": "8b6ccb4f",
   "metadata": {},
   "source": [
    "Checking to see accounts's output"
   ]
  },
  {
   "cell_type": "code",
   "execution_count": 60,
   "id": "eff4bd65",
   "metadata": {},
   "outputs": [],
   "source": [
    "likes_df = pd.DataFrame({'accounts': accounts, 'timestamp': timestamp})"
   ]
  },
  {
   "cell_type": "markdown",
   "id": "8c511afe",
   "metadata": {},
   "source": [
    "Making a DataFrame with the variables"
   ]
  },
  {
   "cell_type": "code",
   "execution_count": 61,
   "id": "bdbb2b8b",
   "metadata": {},
   "outputs": [
    {
     "data": {
      "text/html": [
       "<div>\n",
       "<style scoped>\n",
       "    .dataframe tbody tr th:only-of-type {\n",
       "        vertical-align: middle;\n",
       "    }\n",
       "\n",
       "    .dataframe tbody tr th {\n",
       "        vertical-align: top;\n",
       "    }\n",
       "\n",
       "    .dataframe thead th {\n",
       "        text-align: right;\n",
       "    }\n",
       "</style>\n",
       "<table border=\"1\" class=\"dataframe\">\n",
       "  <thead>\n",
       "    <tr style=\"text-align: right;\">\n",
       "      <th></th>\n",
       "      <th>accounts</th>\n",
       "      <th>timestamp</th>\n",
       "    </tr>\n",
       "  </thead>\n",
       "  <tbody>\n",
       "    <tr>\n",
       "      <th>0</th>\n",
       "      <td>watchingnewyork</td>\n",
       "      <td>1756143746</td>\n",
       "    </tr>\n",
       "    <tr>\n",
       "      <th>1</th>\n",
       "      <td>bluntqoute</td>\n",
       "      <td>1756137591</td>\n",
       "    </tr>\n",
       "    <tr>\n",
       "      <th>2</th>\n",
       "      <td>buddygirlcat</td>\n",
       "      <td>1756137574</td>\n",
       "    </tr>\n",
       "    <tr>\n",
       "      <th>3</th>\n",
       "      <td>aaron.uh</td>\n",
       "      <td>1756137548</td>\n",
       "    </tr>\n",
       "    <tr>\n",
       "      <th>4</th>\n",
       "      <td>ovvenmusic</td>\n",
       "      <td>1756137471</td>\n",
       "    </tr>\n",
       "    <tr>\n",
       "      <th>...</th>\n",
       "      <td>...</td>\n",
       "      <td>...</td>\n",
       "    </tr>\n",
       "    <tr>\n",
       "      <th>3476</th>\n",
       "      <td>therealsimba._</td>\n",
       "      <td>1724690387</td>\n",
       "    </tr>\n",
       "    <tr>\n",
       "      <th>3477</th>\n",
       "      <td>mossgoddesss</td>\n",
       "      <td>1724690317</td>\n",
       "    </tr>\n",
       "    <tr>\n",
       "      <th>3478</th>\n",
       "      <td>artgrowthclub</td>\n",
       "      <td>1724686970</td>\n",
       "    </tr>\n",
       "    <tr>\n",
       "      <th>3479</th>\n",
       "      <td>lindsaylacko</td>\n",
       "      <td>1724612742</td>\n",
       "    </tr>\n",
       "    <tr>\n",
       "      <th>3480</th>\n",
       "      <td>zephyrpub</td>\n",
       "      <td>1724612438</td>\n",
       "    </tr>\n",
       "  </tbody>\n",
       "</table>\n",
       "<p>3481 rows × 2 columns</p>\n",
       "</div>"
      ],
      "text/plain": [
       "             accounts   timestamp\n",
       "0     watchingnewyork  1756143746\n",
       "1          bluntqoute  1756137591\n",
       "2        buddygirlcat  1756137574\n",
       "3            aaron.uh  1756137548\n",
       "4          ovvenmusic  1756137471\n",
       "...               ...         ...\n",
       "3476   therealsimba._  1724690387\n",
       "3477     mossgoddesss  1724690317\n",
       "3478    artgrowthclub  1724686970\n",
       "3479     lindsaylacko  1724612742\n",
       "3480        zephyrpub  1724612438\n",
       "\n",
       "[3481 rows x 2 columns]"
      ]
     },
     "execution_count": 61,
     "metadata": {},
     "output_type": "execute_result"
    }
   ],
   "source": [
    "likes_df"
   ]
  },
  {
   "cell_type": "code",
   "execution_count": 62,
   "id": "dd14453c",
   "metadata": {},
   "outputs": [],
   "source": [
    "like_count = likes_df.groupby('accounts').count()"
   ]
  },
  {
   "cell_type": "markdown",
   "id": "2a804957",
   "metadata": {},
   "source": [
    "Using groupby and count methods to further sort the dataframe"
   ]
  },
  {
   "cell_type": "code",
   "execution_count": 63,
   "id": "15ed64b9",
   "metadata": {},
   "outputs": [
    {
     "data": {
      "text/html": [
       "<div>\n",
       "<style scoped>\n",
       "    .dataframe tbody tr th:only-of-type {\n",
       "        vertical-align: middle;\n",
       "    }\n",
       "\n",
       "    .dataframe tbody tr th {\n",
       "        vertical-align: top;\n",
       "    }\n",
       "\n",
       "    .dataframe thead th {\n",
       "        text-align: right;\n",
       "    }\n",
       "</style>\n",
       "<table border=\"1\" class=\"dataframe\">\n",
       "  <thead>\n",
       "    <tr style=\"text-align: right;\">\n",
       "      <th></th>\n",
       "      <th>timestamp</th>\n",
       "    </tr>\n",
       "    <tr>\n",
       "      <th>accounts</th>\n",
       "      <th></th>\n",
       "    </tr>\n",
       "  </thead>\n",
       "  <tbody>\n",
       "    <tr>\n",
       "      <th>019skye</th>\n",
       "      <td>1</td>\n",
       "    </tr>\n",
       "    <tr>\n",
       "      <th>0w2w</th>\n",
       "      <td>1</td>\n",
       "    </tr>\n",
       "    <tr>\n",
       "      <th>1080phoodvines</th>\n",
       "      <td>1</td>\n",
       "    </tr>\n",
       "    <tr>\n",
       "      <th>17briann</th>\n",
       "      <td>1</td>\n",
       "    </tr>\n",
       "    <tr>\n",
       "      <th>190_gdot3</th>\n",
       "      <td>1</td>\n",
       "    </tr>\n",
       "    <tr>\n",
       "      <th>...</th>\n",
       "      <td>...</td>\n",
       "    </tr>\n",
       "    <tr>\n",
       "      <th>zerovalidatio___</th>\n",
       "      <td>1</td>\n",
       "    </tr>\n",
       "    <tr>\n",
       "      <th>zhaoyangsmai</th>\n",
       "      <td>1</td>\n",
       "    </tr>\n",
       "    <tr>\n",
       "      <th>zkario7</th>\n",
       "      <td>1</td>\n",
       "    </tr>\n",
       "    <tr>\n",
       "      <th>zspongeb0bb</th>\n",
       "      <td>1</td>\n",
       "    </tr>\n",
       "    <tr>\n",
       "      <th>zuccy123456</th>\n",
       "      <td>6</td>\n",
       "    </tr>\n",
       "  </tbody>\n",
       "</table>\n",
       "<p>1863 rows × 1 columns</p>\n",
       "</div>"
      ],
      "text/plain": [
       "                  timestamp\n",
       "accounts                   \n",
       "019skye                   1\n",
       "0w2w                      1\n",
       "1080phoodvines            1\n",
       "17briann                  1\n",
       "190_gdot3                 1\n",
       "...                     ...\n",
       "zerovalidatio___          1\n",
       "zhaoyangsmai              1\n",
       "zkario7                   1\n",
       "zspongeb0bb               1\n",
       "zuccy123456               6\n",
       "\n",
       "[1863 rows x 1 columns]"
      ]
     },
     "execution_count": 63,
     "metadata": {},
     "output_type": "execute_result"
    }
   ],
   "source": [
    "like_count"
   ]
  },
  {
   "cell_type": "code",
   "execution_count": 64,
   "id": "c299fa60",
   "metadata": {},
   "outputs": [
    {
     "data": {
      "text/html": [
       "<div>\n",
       "<style scoped>\n",
       "    .dataframe tbody tr th:only-of-type {\n",
       "        vertical-align: middle;\n",
       "    }\n",
       "\n",
       "    .dataframe tbody tr th {\n",
       "        vertical-align: top;\n",
       "    }\n",
       "\n",
       "    .dataframe thead th {\n",
       "        text-align: right;\n",
       "    }\n",
       "</style>\n",
       "<table border=\"1\" class=\"dataframe\">\n",
       "  <thead>\n",
       "    <tr style=\"text-align: right;\">\n",
       "      <th></th>\n",
       "      <th>timestamp</th>\n",
       "    </tr>\n",
       "    <tr>\n",
       "      <th>accounts</th>\n",
       "      <th></th>\n",
       "    </tr>\n",
       "  </thead>\n",
       "  <tbody>\n",
       "    <tr>\n",
       "      <th>azure4001</th>\n",
       "      <td>80</td>\n",
       "    </tr>\n",
       "    <tr>\n",
       "      <th>owen_kung</th>\n",
       "      <td>67</td>\n",
       "    </tr>\n",
       "    <tr>\n",
       "      <th>bens.gym_videos</th>\n",
       "      <td>46</td>\n",
       "    </tr>\n",
       "    <tr>\n",
       "      <th>bodaddyharris</th>\n",
       "      <td>43</td>\n",
       "    </tr>\n",
       "    <tr>\n",
       "      <th>4ntobz</th>\n",
       "      <td>30</td>\n",
       "    </tr>\n",
       "    <tr>\n",
       "      <th>...</th>\n",
       "      <td>...</td>\n",
       "    </tr>\n",
       "    <tr>\n",
       "      <th>hood.grimes</th>\n",
       "      <td>1</td>\n",
       "    </tr>\n",
       "    <tr>\n",
       "      <th>homusonn</th>\n",
       "      <td>1</td>\n",
       "    </tr>\n",
       "    <tr>\n",
       "      <th>homesformypoems</th>\n",
       "      <td>1</td>\n",
       "    </tr>\n",
       "    <tr>\n",
       "      <th>homage2headshots</th>\n",
       "      <td>1</td>\n",
       "    </tr>\n",
       "    <tr>\n",
       "      <th>019skye</th>\n",
       "      <td>1</td>\n",
       "    </tr>\n",
       "  </tbody>\n",
       "</table>\n",
       "<p>1863 rows × 1 columns</p>\n",
       "</div>"
      ],
      "text/plain": [
       "                  timestamp\n",
       "accounts                   \n",
       "azure4001                80\n",
       "owen_kung                67\n",
       "bens.gym_videos          46\n",
       "bodaddyharris            43\n",
       "4ntobz                   30\n",
       "...                     ...\n",
       "hood.grimes               1\n",
       "homusonn                  1\n",
       "homesformypoems           1\n",
       "homage2headshots          1\n",
       "019skye                   1\n",
       "\n",
       "[1863 rows x 1 columns]"
      ]
     },
     "execution_count": 64,
     "metadata": {},
     "output_type": "execute_result"
    }
   ],
   "source": [
    "like_count.sort_values('timestamp', ascending = False)"
   ]
  },
  {
   "cell_type": "markdown",
   "id": "2c8ff44c",
   "metadata": {},
   "source": [
    "Making it so the top liked accounts show first."
   ]
  },
  {
   "cell_type": "markdown",
   "id": "8902d782",
   "metadata": {},
   "source": [
    "# Hypothesis\n",
    "## I tend to comment on posts from the same accounts that I frequently \"like\".\n",
    "Theoretical Element - I believe that I mostly comment on my friend's posts (with whom I frequently \"like\" their posts)\n",
    "\n",
    "Statisical Element -  Comparing the counts of likes and comments per account to see if high like counts correspond with high comment counts."
   ]
  },
  {
   "cell_type": "code",
   "execution_count": 65,
   "id": "688bfe11-a74b-414d-91f8-d9e1863fec79",
   "metadata": {},
   "outputs": [],
   "source": [
    "path2 = r'/Users/chris/Desktop/docs/fall 2025/data/instagram @freebrisk_/your_instagram_activity/comments/post_comments_1.json'"
   ]
  },
  {
   "cell_type": "code",
   "execution_count": 66,
   "id": "57d306f7-ec61-4fd7-9dc9-471616233ac6",
   "metadata": {},
   "outputs": [],
   "source": [
    "with open(path2) as j:\n",
    "    data2 =js.load(j)"
   ]
  },
  {
   "cell_type": "markdown",
   "id": "7ec1862d-c950-45a3-ad79-4c57c9238336",
   "metadata": {},
   "source": [
    "This time I'm using the \"Post Comments\" json to analyze. This is the json that has all of my post comments, so I need it to test my hypothesis."
   ]
  },
  {
   "cell_type": "code",
   "execution_count": 67,
   "id": "eb4f2515-2f57-4a9b-971c-a5532cda8558",
   "metadata": {},
   "outputs": [],
   "source": [
    "df_comments = pd.json_normalize(data2)"
   ]
  },
  {
   "cell_type": "markdown",
   "id": "2e3c4cb1-cc10-456f-8113-f9cc9459483e",
   "metadata": {},
   "source": [
    "Converting into a tidy DataFrame"
   ]
  },
  {
   "cell_type": "code",
   "execution_count": 68,
   "id": "7fdd774a-e3c1-4614-a8b5-347494dd6cd5",
   "metadata": {},
   "outputs": [],
   "source": [
    "df_comments = df_comments[[\n",
    "    \"string_map_data.Comment.value\",\n",
    "    \"string_map_data.Media Owner.value\",\n",
    "    \"string_map_data.Time.timestamp\"\n",
    "]]"
   ]
  },
  {
   "cell_type": "markdown",
   "id": "0fcd7259-7dc3-413a-93e9-e648a7d0b464",
   "metadata": {},
   "source": [
    "Only saving the relevant columns to tidy the data further"
   ]
  },
  {
   "cell_type": "code",
   "execution_count": 69,
   "id": "74277f96-f6cd-4ee6-9dfa-9f28bb8ae18a",
   "metadata": {},
   "outputs": [],
   "source": [
    "df_comments.columns = [\"comment\", \"media_owner\", \"timestamp\"]"
   ]
  },
  {
   "cell_type": "markdown",
   "id": "7ed3002a-738e-4daa-bae1-e0dcbde893db",
   "metadata": {},
   "source": [
    "Renaming for clarity"
   ]
  },
  {
   "cell_type": "code",
   "execution_count": 70,
   "id": "4f50c154-d6e9-43dc-aff7-274e615095f5",
   "metadata": {},
   "outputs": [
    {
     "data": {
      "text/html": [
       "<div>\n",
       "<style scoped>\n",
       "    .dataframe tbody tr th:only-of-type {\n",
       "        vertical-align: middle;\n",
       "    }\n",
       "\n",
       "    .dataframe tbody tr th {\n",
       "        vertical-align: top;\n",
       "    }\n",
       "\n",
       "    .dataframe thead th {\n",
       "        text-align: right;\n",
       "    }\n",
       "</style>\n",
       "<table border=\"1\" class=\"dataframe\">\n",
       "  <thead>\n",
       "    <tr style=\"text-align: right;\">\n",
       "      <th></th>\n",
       "      <th>comment</th>\n",
       "      <th>media_owner</th>\n",
       "      <th>timestamp</th>\n",
       "    </tr>\n",
       "  </thead>\n",
       "  <tbody>\n",
       "    <tr>\n",
       "      <th>0</th>\n",
       "      <td>I just listened to continuum by John Mayer can...</td>\n",
       "      <td>sam.rubin</td>\n",
       "      <td>1756058141</td>\n",
       "    </tr>\n",
       "    <tr>\n",
       "      <th>1</th>\n",
       "      <td>I wanted to see the sergeant in the army</td>\n",
       "      <td>koi.mat2</td>\n",
       "      <td>1756003193</td>\n",
       "    </tr>\n",
       "    <tr>\n",
       "      <th>2</th>\n",
       "      <td>He sounds like heâs about to cry</td>\n",
       "      <td>yoo1940.1</td>\n",
       "      <td>1754871946</td>\n",
       "    </tr>\n",
       "    <tr>\n",
       "      <th>3</th>\n",
       "      <td>Harry rosenberg jigsaw puzzle</td>\n",
       "      <td>harryrosenberg</td>\n",
       "      <td>1754767697</td>\n",
       "    </tr>\n",
       "    <tr>\n",
       "      <th>4</th>\n",
       "      <td>I used to listen to lil peep when I was younger</td>\n",
       "      <td>koi.mat2</td>\n",
       "      <td>1754758225</td>\n",
       "    </tr>\n",
       "    <tr>\n",
       "      <th>5</th>\n",
       "      <td>@brown_lotus995 âjust go to prison broâ</td>\n",
       "      <td>landpalestine</td>\n",
       "      <td>1754678741</td>\n",
       "    </tr>\n",
       "    <tr>\n",
       "      <th>6</th>\n",
       "      <td>Now this is productive activism</td>\n",
       "      <td>landpalestine</td>\n",
       "      <td>1754678686</td>\n",
       "    </tr>\n",
       "    <tr>\n",
       "      <th>7</th>\n",
       "      <td>Cheating</td>\n",
       "      <td>leonard_you_rascal</td>\n",
       "      <td>1754580773</td>\n",
       "    </tr>\n",
       "    <tr>\n",
       "      <th>8</th>\n",
       "      <td>If you like gorillas this much you need to qui...</td>\n",
       "      <td>pettyhumanemotions</td>\n",
       "      <td>1754528884</td>\n",
       "    </tr>\n",
       "    <tr>\n",
       "      <th>9</th>\n",
       "      <td>Oh yeah!!!</td>\n",
       "      <td>hannahmpetras</td>\n",
       "      <td>1754486964</td>\n",
       "    </tr>\n",
       "  </tbody>\n",
       "</table>\n",
       "</div>"
      ],
      "text/plain": [
       "                                             comment         media_owner  \\\n",
       "0  I just listened to continuum by John Mayer can...           sam.rubin   \n",
       "1           I wanted to see the sergeant in the army            koi.mat2   \n",
       "2                 He sounds like heâs about to cry           yoo1940.1   \n",
       "3                      Harry rosenberg jigsaw puzzle      harryrosenberg   \n",
       "4    I used to listen to lil peep when I was younger            koi.mat2   \n",
       "5        @brown_lotus995 âjust go to prison broâ       landpalestine   \n",
       "6                    Now this is productive activism       landpalestine   \n",
       "7                                           Cheating  leonard_you_rascal   \n",
       "8  If you like gorillas this much you need to qui...  pettyhumanemotions   \n",
       "9                                         Oh yeah!!!       hannahmpetras   \n",
       "\n",
       "    timestamp  \n",
       "0  1756058141  \n",
       "1  1756003193  \n",
       "2  1754871946  \n",
       "3  1754767697  \n",
       "4  1754758225  \n",
       "5  1754678741  \n",
       "6  1754678686  \n",
       "7  1754580773  \n",
       "8  1754528884  \n",
       "9  1754486964  "
      ]
     },
     "execution_count": 70,
     "metadata": {},
     "output_type": "execute_result"
    }
   ],
   "source": [
    "df_comments.head(10)"
   ]
  },
  {
   "cell_type": "markdown",
   "id": "a6d6ad3a-1bd9-4a66-beaa-43941272f8fb",
   "metadata": {},
   "source": [
    "## Interpretation of post_comments_1.json DataFrame\n",
    "The DataFrame represents comments I made on Instagram posts. Each row corresponds to one comment, with information about the post’s owner and the time of posting.  \n",
    "\n",
    "### Tidy Principles:  \n",
    "I tried to make the DataFrame as tidy as possible, with 3 columns to simplify the convoluted JSON file.\n",
    "\n",
    "### Usefulness for Hypothesis: \n",
    "This data can help test my hypothesis because it shows me which accounts I am commenting on. The data could further prove to be useful if I were to tie in the liked_posts json into it too.\n",
    "\n",
    "### Challenges: \n",
    "Further decoding the timestamps and making sure the data is even cleaner, finding ways to tie the data together to paint a bigger picture.\n"
   ]
  },
  {
   "cell_type": "markdown",
   "id": "f621e4e4-e9bf-4819-b192-5041ef0780ea",
   "metadata": {},
   "source": [
    "# Conclusion\n",
    "\n",
    "The accounts between my DataFrame of the liked_posts.json and the post_comments.json are actually very different. I seem to like a lot of meme / influencer accounts. I wonder if this is because they tend to post way more than people I know in real life so I end up hitting \"like\" on more of their posts.\n",
    "\n",
    "I believe there are definitely limitations on what the data collect, but for the hypothesis I proposed, it is entirely possible to find out. I just need to hone in my skill with using DataFrame and data science fundamentals in the first place. Possible next steps would  be to make a DataFrame consisting of both the JSON files in this report."
   ]
  }
 ],
 "metadata": {
  "kernelspec": {
   "display_name": "Python 3 (ipykernel)",
   "language": "python",
   "name": "python3"
  },
  "language_info": {
   "codemirror_mode": {
    "name": "ipython",
    "version": 3
   },
   "file_extension": ".py",
   "mimetype": "text/x-python",
   "name": "python",
   "nbconvert_exporter": "python",
   "pygments_lexer": "ipython3",
   "version": "3.12.11"
  }
 },
 "nbformat": 4,
 "nbformat_minor": 5
}
