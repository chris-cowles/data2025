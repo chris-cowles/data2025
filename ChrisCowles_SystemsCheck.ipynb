{
 "cells": [
  {
   "cell_type": "markdown",
   "id": "f5aa3d0c-570a-4601-88d7-6ce9bd869197",
   "metadata": {},
   "source": [
    "# Systems Check\n",
    "\n",
    "## Chris Cowles\n",
    "\n",
    "### 08/20/2025"
   ]
  },
  {
   "cell_type": "markdown",
   "id": "3cfc8399-3319-4a75-b519-8e0ecc45f5eb",
   "metadata": {},
   "source": [
    "What I want to learn:\n",
    "\n",
    "1. In this class I want to learn how data science concepts and fundamentals tie in with programming.\n",
    "2. I have only really used code for fullstack web development, so it will be a learning experience on how those programming concepts transfer over.\n",
    "\n",
    "- **Answering** questions with data\n",
    "- *Statistics* concepts\n",
    "  "
   ]
  },
  {
   "attachments": {
    "7d44e8c0-8929-4bc9-9898-05959514e7be.webp": {
     "image/webp": "[encoded data removed]"
    }
   },
   "cell_type": "markdown",
   "id": "a7abae8f-7f1b-49ef-9132-6a41a2b8de5a",
   "metadata": {},
   "source": [
    "![Python Programming Language.webp](attachment:7d44e8c0-8929-4bc9-9898-05959514e7be.webp)"
   ]
  },
  {
   "cell_type": "code",
   "execution_count": null,
   "id": "7ef27f60-62ad-4121-a840-a839514c6109",
   "metadata": {},
   "outputs": [],
   "source": [
    "x = 5"
   ]
  },
  {
   "cell_type": "code",
   "execution_count": 4,
   "id": "2df36f61-4a1c-47be-bc47-2466288f3875",
   "metadata": {},
   "outputs": [
    {
     "name": "stdout",
     "output_type": "stream",
     "text": [
      "0\n",
      "1\n"
     ]
    }
   ],
   "source": [
    "for i in range(2): \n",
    "    print(i) "
   ]
  },
  {
   "cell_type": "code",
   "execution_count": 5,
   "id": "38a6df61-968d-4ffb-9884-a2bb5b661ff7",
   "metadata": {},
   "outputs": [],
   "source": [
    "def add(n):\n",
    "    return n + 1"
   ]
  },
  {
   "cell_type": "code",
   "execution_count": null,
   "id": "938dc8de-2995-498c-840c-c5dd53682718",
   "metadata": {},
   "outputs": [],
   "source": []
  }
 ],
 "metadata": {
  "kernelspec": {
   "display_name": "Python [conda env:base] *",
   "language": "python",
   "name": "conda-base-py"
  },
  "language_info": {
   "codemirror_mode": {
    "name": "ipython",
    "version": 3
   },
   "file_extension": ".py",
   "mimetype": "text/x-python",
   "name": "python",
   "nbconvert_exporter": "python",
   "pygments_lexer": "ipython3",
   "version": "3.13.5"
  }
 },
 "nbformat": 4,
 "nbformat_minor": 5
}
