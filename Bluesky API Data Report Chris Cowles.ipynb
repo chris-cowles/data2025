{
 "cells": [
  {
   "cell_type": "markdown",
   "id": "18a71019",
   "metadata": {},
   "source": [
    "# Section 1 — Report Header & Hypothesis\n",
    "\n",
    "**Report Title:** _Do Media Posts Get More Likes on Bluesky?_  \n",
    "**Your Name:** _Chris Cowles_  \n",
    "**Date:** _October 12, 2025_\n",
    "\n",
    "### Hypothesis\n",
    "Posts that include media (images or external embeds) receive more likes on average than plain-text posts.\n",
    "\n",
    "### Theoretical Rationale\n",
    "Media is attention grabbing and often easier to process quickly. If users notice media faster than text, those posts may collect more likes. This is a simple way to test how content type relates to engagement.\n",
    "\n",
    "### What I’ll Do \n",
    "- Pull recent posts from a small set of public accounts.\n",
    "- Label each post as **media** or **text** based on the presence of an embed.\n",
    "- Compare average likes (and medians) between the two groups.\n"
   ]
  },
  {
   "cell_type": "markdown",
   "id": "bdab8729",
   "metadata": {},
   "source": [
    "# Section 2 — Endpoint Plan (Design Your Data Collection)\n",
    "\n",
    " https://docs.bsky.app/docs/category/http-reference\n",
    "\n",
    "- `GET /xrpc/app.bsky.feed.getAuthorFeed` → returns recent posts for a given handle. Includes like/reply/repost counts and the embed (for media). Good for labeling media vs text.\n",
    "- `GET /xrpc/app.bsky.actor.getProfile` → basic profile info per handle (followers, posts). Useful context and shows that we can merge account-level data with post-level data.\n"
   ]
  },
  {
   "cell_type": "markdown",
   "id": "124c489d-27a6-4397-bc29-e4d8b6781ecf",
   "metadata": {},
   "source": [
    "### Reliability\n",
    "- The data may not be reliable because of how small the sample size is. I am only analyzing 3 Bluesky users for this study.\n"
   ]
  },
  {
   "cell_type": "markdown",
   "id": "e6a3f846-874b-4069-a170-795741914fb5",
   "metadata": {},
   "source": [
    "# Section 3 Data Collection\n",
    "Collect posts that match a query. Adjust `QUERY`, `MAX_POSTS`, and any filters your hypothesis requires.\n"
   ]
  },
  {
   "cell_type": "markdown",
   "id": "54047413-9b7c-4301-84f5-4fd84a0d0273",
   "metadata": {},
   "source": [
    "Imports & setup"
   ]
  },
  {
   "cell_type": "code",
   "execution_count": 32,
   "id": "a5a2c5ff",
   "metadata": {},
   "outputs": [],
   "source": [
    "import requests\n",
    "import pandas as pd\n",
    "import matplotlib.pyplot as plt\n",
    "from datetime import datetime\n",
    "import urllib.parse as ul\n",
    "import time\n",
    "\n",
    "APPVIEW = \"https://public.api.bsky.app\"\n",
    "pd.set_option(\"display.max_columns\", 100)"
   ]
  },
  {
   "cell_type": "markdown",
   "id": "3be6d957-13ef-44a4-a6f5-7e0e68d92345",
   "metadata": {},
   "source": [
    "Helper functions for the chosen endpoints"
   ]
  },
  {
   "cell_type": "code",
   "execution_count": 33,
   "id": "e15ff4be",
   "metadata": {},
   "outputs": [],
   "source": [
    "def get_profile(handle: str) -> dict:\n",
    "    url = f\"{APPVIEW}/xrpc/app.bsky.actor.getProfile?actor={ul.quote(handle)}\"\n",
    "    r = requests.get(url, timeout=20)\n",
    "    r.raise_for_status()\n",
    "    return r.json()\n",
    "\n",
    "def get_author_feed(handle: str, limit: int = 50, cursor: str | None = None) -> dict:\n",
    "    params = {\"actor\": handle, \"limit\": limit}\n",
    "    if cursor:\n",
    "        params[\"cursor\"] = cursor\n",
    "    url = f\"{APPVIEW}/xrpc/app.bsky.feed.getAuthorFeed\"\n",
    "    r = requests.get(url, params=params, timeout=20)\n",
    "    r.raise_for_status()\n",
    "    return r.json()"
   ]
  },
  {
   "cell_type": "markdown",
   "id": "9f091f0c-fa0e-4606-84e1-05236a41db91",
   "metadata": {},
   "source": [
    "Array of handles + cap # of posts per user via pagination"
   ]
  },
  {
   "cell_type": "code",
   "execution_count": 34,
   "id": "cbb68789",
   "metadata": {},
   "outputs": [],
   "source": [
    "handles = [\n",
    "    \"jack.bsky.social\",\n",
    "    \"bsky.app\",\n",
    "    \"jay.bsky.social\",\n",
    "]\n",
    "MAX_PER_USER = 100  "
   ]
  },
  {
   "cell_type": "markdown",
   "id": "0d46191d-89c4-48b1-ae16-8b3b533bb614",
   "metadata": {},
   "source": [
    "Collect posts"
   ]
  },
  {
   "cell_type": "code",
   "execution_count": 35,
   "id": "be31d96e",
   "metadata": {},
   "outputs": [
    {
     "data": {
      "text/html": [
       "<div>\n",
       "<style scoped>\n",
       "    .dataframe tbody tr th:only-of-type {\n",
       "        vertical-align: middle;\n",
       "    }\n",
       "\n",
       "    .dataframe tbody tr th {\n",
       "        vertical-align: top;\n",
       "    }\n",
       "\n",
       "    .dataframe thead th {\n",
       "        text-align: right;\n",
       "    }\n",
       "</style>\n",
       "<table border=\"1\" class=\"dataframe\">\n",
       "  <thead>\n",
       "    <tr style=\"text-align: right;\">\n",
       "      <th></th>\n",
       "      <th>author_handle</th>\n",
       "      <th>post_uri</th>\n",
       "      <th>created_at</th>\n",
       "      <th>text</th>\n",
       "      <th>like_count</th>\n",
       "      <th>reply_count</th>\n",
       "      <th>repost_count</th>\n",
       "      <th>has_media</th>\n",
       "    </tr>\n",
       "  </thead>\n",
       "  <tbody>\n",
       "    <tr>\n",
       "      <th>0</th>\n",
       "      <td>jack.bsky.social</td>\n",
       "      <td>at://did:plc:cyo4fmu7ktbgaobgasfoja4g/app.bsky...</td>\n",
       "      <td>2025-05-13 20:56:01.981000+00:00</td>\n",
       "      <td>open source everything</td>\n",
       "      <td>6</td>\n",
       "      <td>5</td>\n",
       "      <td>2</td>\n",
       "      <td>False</td>\n",
       "    </tr>\n",
       "    <tr>\n",
       "      <th>1</th>\n",
       "      <td>matthewwilding.bsky.social</td>\n",
       "      <td>at://did:plc:ccpzzqcvmpaieyrcdszm73t4/app.bsky...</td>\n",
       "      <td>2025-10-10 15:44:12.646000+00:00</td>\n",
       "      <td>Fun fact: Bluesky is outperforming Twitter on ...</td>\n",
       "      <td>3796</td>\n",
       "      <td>78</td>\n",
       "      <td>248</td>\n",
       "      <td>False</td>\n",
       "    </tr>\n",
       "    <tr>\n",
       "      <th>2</th>\n",
       "      <td>timkellogg.me</td>\n",
       "      <td>at://did:plc:ckaz32jwl6t2cno6fmuw2nhn/app.bsky...</td>\n",
       "      <td>2025-10-10 16:04:57.235000+00:00</td>\n",
       "      <td>i think what defines bluesky is your ability t...</td>\n",
       "      <td>1101</td>\n",
       "      <td>46</td>\n",
       "      <td>57</td>\n",
       "      <td>False</td>\n",
       "    </tr>\n",
       "    <tr>\n",
       "      <th>3</th>\n",
       "      <td>boostblue.bsky.social</td>\n",
       "      <td>at://did:plc:e5sycehmo2p3ze6qvrrsurcc/app.bsky...</td>\n",
       "      <td>2025-10-07 18:50:30.314000+00:00</td>\n",
       "      <td>Boost Blue's iPad update is live!!!\\n\\nDownloa...</td>\n",
       "      <td>452</td>\n",
       "      <td>17</td>\n",
       "      <td>39</td>\n",
       "      <td>True</td>\n",
       "    </tr>\n",
       "    <tr>\n",
       "      <th>4</th>\n",
       "      <td>themerl.bsky.social</td>\n",
       "      <td>at://did:plc:denuvqodvvnzxtuitumle4vs/app.bsky...</td>\n",
       "      <td>2025-10-09 16:40:50.348000+00:00</td>\n",
       "      <td>it makes us extremely proud to know that among...</td>\n",
       "      <td>1304</td>\n",
       "      <td>18</td>\n",
       "      <td>59</td>\n",
       "      <td>True</td>\n",
       "    </tr>\n",
       "  </tbody>\n",
       "</table>\n",
       "</div>"
      ],
      "text/plain": [
       "                author_handle  \\\n",
       "0            jack.bsky.social   \n",
       "1  matthewwilding.bsky.social   \n",
       "2               timkellogg.me   \n",
       "3       boostblue.bsky.social   \n",
       "4         themerl.bsky.social   \n",
       "\n",
       "                                            post_uri  \\\n",
       "0  at://did:plc:cyo4fmu7ktbgaobgasfoja4g/app.bsky...   \n",
       "1  at://did:plc:ccpzzqcvmpaieyrcdszm73t4/app.bsky...   \n",
       "2  at://did:plc:ckaz32jwl6t2cno6fmuw2nhn/app.bsky...   \n",
       "3  at://did:plc:e5sycehmo2p3ze6qvrrsurcc/app.bsky...   \n",
       "4  at://did:plc:denuvqodvvnzxtuitumle4vs/app.bsky...   \n",
       "\n",
       "                        created_at  \\\n",
       "0 2025-05-13 20:56:01.981000+00:00   \n",
       "1 2025-10-10 15:44:12.646000+00:00   \n",
       "2 2025-10-10 16:04:57.235000+00:00   \n",
       "3 2025-10-07 18:50:30.314000+00:00   \n",
       "4 2025-10-09 16:40:50.348000+00:00   \n",
       "\n",
       "                                                text  like_count  reply_count  \\\n",
       "0                             open source everything           6            5   \n",
       "1  Fun fact: Bluesky is outperforming Twitter on ...        3796           78   \n",
       "2  i think what defines bluesky is your ability t...        1101           46   \n",
       "3  Boost Blue's iPad update is live!!!\\n\\nDownloa...         452           17   \n",
       "4  it makes us extremely proud to know that among...        1304           18   \n",
       "\n",
       "   repost_count  has_media  \n",
       "0             2      False  \n",
       "1           248      False  \n",
       "2            57      False  \n",
       "3            39       True  \n",
       "4            59       True  "
      ]
     },
     "execution_count": 35,
     "metadata": {},
     "output_type": "execute_result"
    }
   ],
   "source": [
    "all_posts = []\n",
    "for h in handles:\n",
    "    cursor = None\n",
    "    fetched = 0\n",
    "    while fetched < MAX_PER_USER:\n",
    "        data = get_author_feed(h, limit=100, cursor=cursor)\n",
    "        feed = data.get(\"feed\", [])\n",
    "        if not feed:\n",
    "            break\n",
    "        for item in feed:\n",
    "            post = item.get(\"post\", {}) or {}\n",
    "            record = post.get(\"record\", {}) or {}\n",
    "            # An embed indicates media (images, external links, etc.) in AppView\n",
    "            has_media = \"embed\" in post and post.get(\"embed\") is not None\n",
    "            all_posts.append({\n",
    "                \"author_handle\": post.get(\"author\", {}).get(\"handle\"),\n",
    "                \"post_uri\": post.get(\"uri\"),\n",
    "                \"created_at\": record.get(\"createdAt\"),\n",
    "                \"text\": record.get(\"text\", \"\"),\n",
    "                \"like_count\": post.get(\"likeCount\"),\n",
    "                \"reply_count\": post.get(\"replyCount\"),\n",
    "                \"repost_count\": post.get(\"repostCount\"),\n",
    "                \"has_media\": has_media,\n",
    "            })\n",
    "        fetched += len(feed)\n",
    "        cursor = data.get(\"cursor\")\n",
    "        if not cursor:\n",
    "            break\n",
    "        time.sleep(0.2)  # polite delay\n",
    "\n",
    "posts_df = pd.DataFrame(all_posts)\n",
    "if not posts_df.empty:\n",
    "    posts_df[\"created_at\"] = pd.to_datetime(posts_df[\"created_at\"], errors=\"coerce\", utc=True)\n",
    "posts_df.head()"
   ]
  },
  {
   "cell_type": "markdown",
   "id": "f970a1d8-4d68-4863-9d87-e2b35c7591c2",
   "metadata": {},
   "source": [
    "## Data Collection (Endpoint 1): \n",
    "`app.bsky.feed.searchPosts`\n",
    "Flatten key fields from Bluesky PostView objects."
   ]
  },
  {
   "cell_type": "markdown",
   "id": "0a25e8b8",
   "metadata": {},
   "source": [
    "## Data Collection (Endpoint 2): \n",
    "\n",
    "`app.bsky.actor.getProfiles`\n",
    "- Enrich the post data with profile attributes (followers count, display name, etc.).  \n",
    "- We gather unique author identifiers (`did`) from the posts and request them in batches.\n",
    "- NOTE: Will this be a for loop?\n"
   ]
  },
  {
   "cell_type": "markdown",
   "id": "1908e9c3",
   "metadata": {},
   "source": [
    "# Section 4 — Build DataFrames\n",
    "\n",
    "Use a pandas method to combine your DataFrames. Use your own endpoints and dataframes. Adjust based on your plan:\n",
    "- **merge** on a key (`author_did`), or\n",
    "- **concat** to stack rows from multiple endpoints, or\n",
    "- **join** to add columns using an index.\n",
    "- **Wrangling** (select, clean, sort)\n",
    "\n",
    "  \n"
   ]
  },
  {
   "cell_type": "markdown",
   "id": "99678d45-57e6-437e-a0cb-eecacdf3269a",
   "metadata": {},
   "source": [
    "Basic summary: compare likes for media vs text"
   ]
  },
  {
   "cell_type": "code",
   "execution_count": 29,
   "id": "2f6b3583",
   "metadata": {},
   "outputs": [],
   "source": [
    "if posts_df.empty:\n",
    "    print(\"No posts collected. Try different handles or run again later.\")\n",
    "else:\n",
    "    grp = (posts_df.groupby(\"has_media\", as_index=False)\n",
    "           .agg(avg_likes=(\"like_count\", \"mean\"),\n",
    "                median_likes=(\"like_count\", \"median\"),\n",
    "                posts_sampled=(\"post_uri\", \"count\")))\n",
    "    grp[\"post_type\"] = grp[\"has_media\"].map({True: \"Media\", False: \"Text\"})\n",
    "    grp[[\"post_type\",\"avg_likes\",\"median_likes\",\"posts_sampled\"]]"
   ]
  },
  {
   "cell_type": "markdown",
   "id": "3cbf1e1a-a24d-4511-808e-9fecdfce35e4",
   "metadata": {},
   "source": [
    "Simple bar chart: Avg likes by post type (Media vs Text)"
   ]
  },
  {
   "cell_type": "code",
   "execution_count": 30,
   "id": "95094f3d",
   "metadata": {},
   "outputs": [
    {
     "data": {
      "image/png": "[encoded data removed]",
      "text/plain": [
       "<Figure size 600x400 with 1 Axes>"
      ]
     },
     "metadata": {},
     "output_type": "display_data"
    }
   ],
   "source": [
    "if 'grp' in locals() and not grp.empty:\n",
    "    plt.figure(figsize=(6,4))\n",
    "    plt.bar(grp[\"post_type\"], grp[\"avg_likes\"])\n",
    "    plt.title(\"Average Likes: Media vs Text (sample)\")\n",
    "    plt.xlabel(\"Post Type\")\n",
    "    plt.ylabel(\"Average Likes\")\n",
    "    plt.show()\n",
    "else:\n",
    "    print(\"Nothing to plot.\")"
   ]
  },
  {
   "cell_type": "markdown",
   "id": "5fe21b5f-53d0-46e2-a042-102e55bd81a9",
   "metadata": {},
   "source": [
    "Merge with profiles to demonstrate DataFrame combination"
   ]
  },
  {
   "cell_type": "code",
   "execution_count": 31,
   "id": "4be45723",
   "metadata": {},
   "outputs": [],
   "source": [
    "profiles = []\n",
    "for h in sorted(set(posts_df[\"author_handle\"])):\n",
    "    try:\n",
    "        p = get_profile(h)\n",
    "        profiles.append({\n",
    "            \"author_handle\": p.get(\"handle\"),\n",
    "            \"followers\": p.get(\"followersCount\"),\n",
    "            \"posts_total\": p.get(\"postsCount\"),\n",
    "        })\n",
    "    except Exception as e:\n",
    "        print(\"profile error for\", h, e)\n",
    "\n",
    "profiles_df = pd.DataFrame(profiles)\n",
    "if not profiles_df.empty:\n",
    "    author_like_means = (posts_df.groupby(\"author_handle\", as_index=False)\n",
    "                         .agg(avg_likes=(\"like_count\", \"mean\"), count_posts=(\"post_uri\",\"count\")))\n",
    "    merged = pd.merge(author_like_means, profiles_df, on=\"author_handle\", how=\"left\")\n",
    "    merged.sort_values(\"followers\", ascending=False).head(10)"
   ]
  },
  {
   "cell_type": "markdown",
   "id": "88fce915",
   "metadata": {},
   "source": [
    "# Section 5 — Conclusion\n",
    "\n",
    "**What I see:**  \n",
    "If the Media bar is higher than Text, it supports the hypothesis that media posts get more likes on average. If the difference is small, we may need a larger sample or to compare within each author to control for audience size.\n",
    "\n",
    "**Notes & limits:**  \n",
    "We only pulled recent posts; results can change over time.  A few viral posts can skew the mean. Medians help reduce that effect.  Handles are a small convenience sample. Expanding the list would make the result more reliable.\n",
    "\n",
    "**Next steps:**  \n",
    "Increase the number of accounts. Add time-of-day/day-of-week controls. Break media into images vs external links vs video (if available) to see differences within media types.\n"
   ]
  }
 ],
 "metadata": {
  "kernelspec": {
   "display_name": "Python 3 (ipykernel)",
   "language": "python",
   "name": "python3"
  },
  "language_info": {
   "codemirror_mode": {
    "name": "ipython",
    "version": 3
   },
   "file_extension": ".py",
   "mimetype": "text/x-python",
   "name": "python",
   "nbconvert_exporter": "python",
   "pygments_lexer": "ipython3",
   "version": "3.12.11"
  }
 },
 "nbformat": 4,
 "nbformat_minor": 5
}
